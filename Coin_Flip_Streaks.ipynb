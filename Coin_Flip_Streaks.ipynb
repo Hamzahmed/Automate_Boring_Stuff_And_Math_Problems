{
  "nbformat": 4,
  "nbformat_minor": 0,
  "metadata": {
    "colab": {
      "name": "Coin Flip Streaks.ipynb",
      "provenance": [],
      "authorship_tag": "ABX9TyPdH8iQzlqPSJRiaYjltgiB",
      "include_colab_link": true
    },
    "kernelspec": {
      "name": "python3",
      "display_name": "Python 3"
    }
  },
  "cells": [
    {
      "cell_type": "markdown",
      "metadata": {
        "id": "view-in-github",
        "colab_type": "text"
      },
      "source": [
        "<a href=\"https://colab.research.google.com/github/Hamzahmed/Automate_Boring_Stuff_Math_Problems/blob/main/Coin_Flip_Streaks.ipynb\" target=\"_parent\"><img src=\"https://colab.research.google.com/assets/colab-badge.svg\" alt=\"Open In Colab\"/></a>"
      ]
    },
    {
      "cell_type": "code",
      "metadata": {
        "id": "yCVPPZaD7N7X",
        "colab": {
          "base_uri": "https://localhost:8080/"
        },
        "outputId": "42c8ddc0-1560-46d4-d0ca-7f161848bab3"
      },
      "source": [
        "import random\n",
        "numberOfStreaks = 0\n",
        "streak = 1\n",
        "coin_flip = []\n",
        "for experimentNumber in range(10000):\n",
        "    for i in range(100):\n",
        "      coin_flip.append(random.randint(0,1))\n",
        "    for i in range(len(coin_flip)):\n",
        "      if coin_flip[i] == coin_flip[i-1]:\n",
        "        streak += 1\n",
        "      else:\n",
        "        streak = 1\n",
        "      if streak == 6:\n",
        "        numberOfStreaks +=1\n",
        "      break\n",
        "\n",
        "\n",
        "print('Chance of streak: %s%%' % (numberOfStreaks / 100))"
      ],
      "execution_count": 1,
      "outputs": [
        {
          "output_type": "stream",
          "text": [
            "Chance of streak: 1.52%\n"
          ],
          "name": "stdout"
        }
      ]
    },
    {
      "cell_type": "code",
      "metadata": {
        "id": "x199NPcj7f2Z",
        "colab": {
          "base_uri": "https://localhost:8080/",
          "height": 35
        },
        "outputId": "28d78868-dbf3-46f3-b06a-85f1fcb10745"
      },
      "source": [
        "grid = [['.', '.', '.', '.', '.', '.'],\n",
        "        ['.', 'O', 'O', '.', '.', '.'],\n",
        "        ['O', 'O', 'O', 'O', '.', '.'],\n",
        "        ['O', 'O', 'O', 'O', 'O', '.'],\n",
        "        ['.', 'O', 'O', 'O', 'O', 'O'],\n",
        "        ['O', 'O', 'O', 'O', 'O', '.'],\n",
        "        ['O', 'O', 'O', 'O', '.', '.'],\n",
        "        ['.', 'O', 'O', '.', '.', '.'],\n",
        "        ['.', '.', '.', '.', '.', '.']]\n",
        "\n",
        "len(grid)"
      ],
      "execution_count": null,
      "outputs": [
        {
          "output_type": "execute_result",
          "data": {
            "text/plain": [
              "9"
            ]
          },
          "metadata": {
            "tags": []
          },
          "execution_count": 18
        }
      ]
    },
    {
      "cell_type": "code",
      "metadata": {
        "id": "FbSXLh1z-nbS"
      },
      "source": [
        ""
      ],
      "execution_count": null,
      "outputs": []
    }
  ]
}