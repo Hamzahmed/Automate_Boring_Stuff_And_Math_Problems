{
  "nbformat": 4,
  "nbformat_minor": 0,
  "metadata": {
    "colab": {
      "name": "Untitled5.ipynb",
      "provenance": [],
      "authorship_tag": "ABX9TyMp+03Ma9xNoljSxQXfjrJb",
      "include_colab_link": true
    },
    "kernelspec": {
      "name": "python3",
      "display_name": "Python 3"
    }
  },
  "cells": [
    {
      "cell_type": "markdown",
      "metadata": {
        "id": "view-in-github",
        "colab_type": "text"
      },
      "source": [
        "<a href=\"https://colab.research.google.com/github/Hamzahmed/Automate_Boring_Stuff_Math_Problems/blob/main/Parity_Outlier.ipynb\" target=\"_parent\"><img src=\"https://colab.research.google.com/assets/colab-badge.svg\" alt=\"Open In Colab\"/></a>"
      ]
    },
    {
      "cell_type": "code",
      "metadata": {
        "id": "lE75NRwt-9XB",
        "colab": {
          "base_uri": "https://localhost:8080/",
          "height": 69
        },
        "outputId": "cbc4e62d-0b78-4940-f887-5fa7c0076ca6"
      },
      "source": [
        "a = [2, 4, 6, 8, 10, 3]\n",
        "b = [2, 4, 0, 100, 4, 11, 2602, 36]\n",
        "c = [160, 3, 1719, 19, 11, 13, -21]\n",
        "\n",
        "def find_outlier(list_integers):\n",
        "    odd = []\n",
        "    even = []\n",
        "    for num in list_integers:\n",
        "       if num % 2 != 0:\n",
        "         odd.append(num)\n",
        "       elif num % 2 == 0:\n",
        "         even.append(num)\n",
        "    for num in list_integers:\n",
        "      if len(odd) < len(even):\n",
        "        return odd[0]\n",
        "      else:\n",
        "        return even[0]\n",
        "\n",
        "print(find_outlier(a))\n",
        "\n",
        "print(find_outlier(b))\n",
        "\n",
        "print(find_outlier(c))\n"
      ],
      "execution_count": null,
      "outputs": [
        {
          "output_type": "stream",
          "text": [
            "3\n",
            "11\n",
            "160\n"
          ],
          "name": "stdout"
        }
      ]
    },
    {
      "cell_type": "code",
      "metadata": {
        "id": "2yo3L5l7B-mf",
        "colab": {
          "base_uri": "https://localhost:8080/",
          "height": 68
        },
        "outputId": "95faac33-a69d-4361-e0d3-075cf9ada563"
      },
      "source": [
        "def find_outlier(x):\n",
        "    odd = [i for i in x if i % 2 != 0]\n",
        "    even = [i for i in x if i % 2 == 0]\n",
        "    return odd[0] if len(odd) < len(even) else even[0]\n",
        "print(find_outlier(a))\n",
        "\n",
        "print(find_outlier(b))\n",
        "\n",
        "print(find_outlier(c))"
      ],
      "execution_count": null,
      "outputs": [
        {
          "output_type": "stream",
          "text": [
            "3\n",
            "11\n",
            "160\n"
          ],
          "name": "stdout"
        }
      ]
    },
    {
      "cell_type": "code",
      "metadata": {
        "id": "-YtO2TtyWyn9",
        "colab": {
          "base_uri": "https://localhost:8080/",
          "height": 68
        },
        "outputId": "03e26cfc-6de8-49b8-d8a4-d7efe03dd617"
      },
      "source": [
        "input_string = input()\n",
        "\n",
        "# Print a string literal saying \"Hello, World.\" to stdout.\n",
        "print('Hello, World.')\n",
        "print(input_string)"
      ],
      "execution_count": null,
      "outputs": [
        {
          "output_type": "stream",
          "text": [
            "sdfds\n",
            "Hello, World.\n",
            "sdfds\n"
          ],
          "name": "stdout"
        }
      ]
    },
    {
      "cell_type": "code",
      "metadata": {
        "id": "sawNYR3J-0Bi",
        "colab": {
          "base_uri": "https://localhost:8080/"
        },
        "outputId": "df909017-5ea5-4460-a45e-722c4238e07b"
      },
      "source": [
        "counts = { 'chuck' : 1 , 'annie' : 42, 'jan': 100}\n",
        "for key in counts:\n",
        "    if counts[key] > 10:\n",
        "        print(key, counts[key])"
      ],
      "execution_count": 1,
      "outputs": [
        {
          "output_type": "stream",
          "text": [
            "annie 42\n",
            "jan 100\n"
          ],
          "name": "stdout"
        }
      ]
    },
    {
      "cell_type": "code",
      "metadata": {
        "id": "tV4t1JLkb_JD"
      },
      "source": [
        ""
      ],
      "execution_count": null,
      "outputs": []
    }
  ]
}