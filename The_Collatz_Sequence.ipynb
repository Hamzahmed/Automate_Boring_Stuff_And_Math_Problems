{
  "nbformat": 4,
  "nbformat_minor": 0,
  "metadata": {
    "colab": {
      "name": "Copy of The Collatz Sequence.ipynb",
      "provenance": [],
      "authorship_tag": "ABX9TyOt/taS3KLem0KDU+pJRVkX",
      "include_colab_link": true
    },
    "kernelspec": {
      "name": "python3",
      "display_name": "Python 3"
    }
  },
  "cells": [
    {
      "cell_type": "markdown",
      "metadata": {
        "id": "view-in-github",
        "colab_type": "text"
      },
      "source": [
        "<a href=\"https://colab.research.google.com/github/Hamzahmed/Automate_Boring_Stuff_Math_Problems/blob/main/The_Collatz_Sequence.ipynb\" target=\"_parent\"><img src=\"https://colab.research.google.com/assets/colab-badge.svg\" alt=\"Open In Colab\"/></a>"
      ]
    },
    {
      "cell_type": "code",
      "metadata": {
        "id": "isUT5-aCD_Qq",
        "colab": {
          "base_uri": "https://localhost:8080/",
          "height": 468
        },
        "outputId": "742ead8e-cdcd-46f7-f9fa-696c7ec47b01"
      },
      "source": [
        "def collatz(number):\n",
        "  if number % 2 == 0:\n",
        "    number = number // 2\n",
        "  else:\n",
        "    number = 3 * number + 1\n",
        "  return number\n",
        "\n",
        "input_number = int(input(\"Please give me a number: \"))\n",
        "while input_number != 1:\n",
        "  input_number = collatz(input_number)\n",
        "  print (input_number)"
      ],
      "execution_count": null,
      "outputs": [
        {
          "output_type": "stream",
          "text": [
            "Please give me a number: 100\n",
            "50\n",
            "25\n",
            "76\n",
            "38\n",
            "19\n",
            "58\n",
            "29\n",
            "88\n",
            "44\n",
            "22\n",
            "11\n",
            "34\n",
            "17\n",
            "52\n",
            "26\n",
            "13\n",
            "40\n",
            "20\n",
            "10\n",
            "5\n",
            "16\n",
            "8\n",
            "4\n",
            "2\n",
            "1\n"
          ],
          "name": "stdout"
        }
      ]
    },
    {
      "cell_type": "code",
      "metadata": {
        "id": "7FW328umEWcI"
      },
      "source": [
        ""
      ],
      "execution_count": null,
      "outputs": []
    }
  ]
}