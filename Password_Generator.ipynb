{
  "nbformat": 4,
  "nbformat_minor": 0,
  "metadata": {
    "colab": {
      "name": "Password Generator.ipynb",
      "provenance": [],
      "authorship_tag": "ABX9TyOnfotgDgvW4mScJaFeos6U",
      "include_colab_link": true
    },
    "kernelspec": {
      "name": "python3",
      "display_name": "Python 3"
    }
  },
  "cells": [
    {
      "cell_type": "markdown",
      "metadata": {
        "id": "view-in-github",
        "colab_type": "text"
      },
      "source": [
        "<a href=\"https://colab.research.google.com/github/Hamzahmed/Automate_Boring_Stuff_Math_Problems/blob/main/Password_Generator.ipynb\" target=\"_parent\"><img src=\"https://colab.research.google.com/assets/colab-badge.svg\" alt=\"Open In Colab\"/></a>"
      ]
    },
    {
      "cell_type": "code",
      "metadata": {
        "id": "aeOMbT05c9hI",
        "colab": {
          "base_uri": "https://localhost:8080/",
          "height": 102
        },
        "outputId": "b0d4be8c-d833-4dd5-b68b-dab2541a00cd"
      },
      "source": [
        "import random\n",
        "import sys\n",
        "#import pyperclip\n",
        "Ask = input(\"Do you need to generate a password or input a custom password to save?\")\n",
        "options = [\"generate a password\", \"input a custom password to save\"]\n",
        "if Ask == 'input a custom password to save':\n",
        "  custom_password = input('Please input your password to save: ')\n",
        "  ask_cust_w = input(\"Please enter what the password is for: \" )\n",
        "  with open('password.txt', 'w') as f:\n",
        "      f.write('{},{}'.format(ask_cust_w, custom_password))\n",
        "if Ask == 'generate a password':\n",
        "  characters = \"ABCDEFGHIJKLMNOPQRSTUVWXYZabcdefghijklmnopqrstuvwxyz1234567890-_=+[{]}\\|;:',<.>/?\"\n",
        "  pass_leng = int(input(\"how long do you want your password to be?: \"))\n",
        "  password = ''\n",
        "  for i in range(pass_leng):\n",
        "    password += random.choice(characters)\n",
        "  print(\"Here is your password,\" +password)\n",
        "  ask_save = input(\"Do you want me to save this password?\")\n",
        "  \n",
        "  if ask_save == 'yes':\n",
        "    ask_w = input(\"Please enter what the password is for: \")\n",
        "    with open('password.txt', 'w') as f:\n",
        "      f.write('{},{}'.format(ask_save, ask_w))\n",
        "    print(\"Your password has been saved!\")\n",
        "  else:\n",
        "    ask_save == 'No'\n",
        "    print(\"Thank you for your time!\")\n",
        "    sys.exit\n",
        "#able to open the file as well\n",
        "#encrpypt the password and make it better\n",
        "#dictionaries to make it easier\n",
        "#see if you can have requirements for the password\n",
        "\n",
        "\n"
      ],
      "execution_count": null,
      "outputs": [
        {
          "output_type": "stream",
          "text": [
            "Do you need to generate a password or input a custom password to save?generate a password\n",
            "how long do you want your password to be?: 8\n",
            "Here is your password,snE:VrOs\n",
            "Do you want me to save this password?No\n",
            "Thank you for your time!\n"
          ],
          "name": "stdout"
        }
      ]
    },
    {
      "cell_type": "code",
      "metadata": {
        "id": "Cfa98WMudorL"
      },
      "source": [
        ""
      ],
      "execution_count": null,
      "outputs": []
    }
  ]
}