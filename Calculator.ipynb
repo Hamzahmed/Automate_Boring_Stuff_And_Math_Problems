{
  "nbformat": 4,
  "nbformat_minor": 0,
  "metadata": {
    "colab": {
      "name": "Calculator.ipynb",
      "provenance": [],
      "authorship_tag": "ABX9TyNk8IeVzBF1lQHbcLfue6NS",
      "include_colab_link": true
    },
    "kernelspec": {
      "name": "python3",
      "display_name": "Python 3"
    }
  },
  "cells": [
    {
      "cell_type": "markdown",
      "metadata": {
        "id": "view-in-github",
        "colab_type": "text"
      },
      "source": [
        "<a href=\"https://colab.research.google.com/github/Hamzahmed/Automate_Boring_Stuff_Math_Problems/blob/main/Calculator.ipynb\" target=\"_parent\"><img src=\"https://colab.research.google.com/assets/colab-badge.svg\" alt=\"Open In Colab\"/></a>"
      ]
    },
    {
      "cell_type": "code",
      "metadata": {
        "id": "DULt9wObcHV-"
      },
      "source": [
        ""
      ],
      "execution_count": null,
      "outputs": []
    },
    {
      "cell_type": "code",
      "metadata": {
        "id": "CT_b10OIbb5x"
      },
      "source": [
        "import math as m\n",
        "import numpy as np\n",
        "import os\n",
        "import sys\n",
        "import tkinter\n",
        "from scipy.integrate import odeint\n",
        "\n",
        "express_var = \" \"\n",
        "\n",
        "def press(num): \n",
        "    # point out the global expression variable \n",
        "    global expression \n",
        "  \n",
        "    # concatenation of string \n",
        "    expression = expression + str(num) \n",
        "  \n",
        "    # update the expression by using set method \n",
        "    equation.set(expression) \n",
        "\n",
        "\n",
        "name = [\"Einstein\", \"Newton\",\"Gauss\", \"Keplar\"]\n",
        "enter_name = input(\"Hello There! Welcome to famous scientist-ific Calculator, Please select a scientist you want to work with!\")\n",
        "if enter_name in name:\n",
        "  print (\" Hello! Thanks for choosing me! I am \"+ enter_name + \", and I'll be your scientist for today\")\n",
        "elif enter_name == \"\":\n",
        "  print(\"Okay! You just want simple calculator. Please enter what you want!\")\n",
        "  sys.exit\n",
        "def add(num_1 , num_2):\n",
        "  return num_1 + num_2\n",
        "\n",
        "def subtr(num_1 ,num_2):\n",
        "  return num_1 - num_2\n",
        "\n",
        "def mult(num_1, num_2):\n",
        "  return num_1 * num_2\n",
        "\n",
        "def div(num_1, num_2):\n",
        "  return (num_1/num_2)\n",
        "div(3,2)\n",
        "\n",
        "def mod(num_1, num_2):\n",
        "  return (num_1 % num_2)\n",
        "\n",
        "if enter_name == 'Newton':\n",
        "  N1 = int(input(\"Please enter Mass 1\"))\n",
        "  N2 = int(input(\"please enter Mass 2\"))\n",
        "  NR3 = int(input(\"please enter Radius\"))\n",
        "  def force(m1,m2,r):\n",
        "    G = 7.67*(10**-11)\n",
        "    return ((G*m1*m2)/(r**2)) \n",
        "  print(force(N1,N2,NR3))\n",
        "\n",
        "#if enter_name == \"Keplar\":\n",
        "#  print(\"Nature uses as little as possible of anything\")\n",
        "#  K1 = int(input(\"Please enter Mass 1 \"))\n",
        "#  K2 = int(input(\"Please enter Mass 2 \"))\n",
        "#  KR3 = int(input(\"Please enter the distance between the two masses \"))\n",
        "#  def kep3rdlaw(M1,M2,r):\n",
        "#    G = 6.67*(10**-11)\n",
        "#    M=M1+M2\n",
        "#    T = m.sqrt((4*(m.pi)**2*r*3)/(G*M))\n",
        "#    return T\n",
        "#  print(kep3rdlaw(K1,K2,KR3))\n",
        "\n",
        "#Okay many changes to be done. Maybe change the scientists names into specific equations. or if you want to keep the scientists name, \n",
        "#find more equations by the scientists. Next find a way to evaluate input functions. \n",
        "#Enhance the calculator to include graphs according to the inputs\n",
        "\n",
        "\n",
        "\n",
        "#def first_order_differential_equation(x1,x2,func,initial_con):\n",
        "  #x = np.linspace(x1,x2,100)\n",
        "  #y = odeint(func, initial_con, x)\n",
        "\n",
        "#print(first_order_differential_equation(1,1,x+2,1)\n",
        "\n",
        "  #make a GUI CALCULATOR\n",
        "\n",
        "  "
      ],
      "execution_count": null,
      "outputs": []
    },
    {
      "cell_type": "code",
      "metadata": {
        "id": "acm6_UtI7TfT"
      },
      "source": [
        ""
      ],
      "execution_count": null,
      "outputs": []
    }
  ]
}